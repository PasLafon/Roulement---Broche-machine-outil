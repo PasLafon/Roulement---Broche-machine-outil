{
 "cells": [
  {
   "cell_type": "markdown",
   "metadata": {},
   "source": [
    "# TD TN20 : Roulements\n",
    "## Broche de machine outil"
   ]
  },
  {
   "cell_type": "markdown",
   "metadata": {},
   "source": [
    "<img src=\"broche_machine_outil.png\" width=\"700\"/>\n",
    "Donnée sur la géométrie de la broche :\n",
    "$$\\lambda=\\frac{a}{b}=0.275$$"
   ]
  },
  {
   "cell_type": "markdown",
   "metadata": {},
   "source": [
    "#### 1) Actions mécaniques supportées par les roulements :"
   ]
  },
  {
   "cell_type": "markdown",
   "metadata": {},
   "source": [
    "Calcul classique, on écrit le PFD en supposant un régime de rotation stationnaire et un arbre parfaitement équilibré statiquement et dynamiquement."
   ]
  },
  {
   "cell_type": "markdown",
   "metadata": {},
   "source": [
    "$$\n",
    "\\{\\mathcal{T}_{\\text{Ext.}\\to\\text{Arbre}}\\}=\\{0\\}\n",
    "$$"
   ]
  },
  {
   "cell_type": "markdown",
   "metadata": {},
   "source": [
    "$$\n",
    "\\{\\mathcal{T}_{\\text{Effort}\\to\\text{Arbre}}\\} +\n",
    "\\{\\mathcal{T}_{\\text{Rot. (A)}\\to\\text{Arbre}}\\} +\n",
    "\\{\\mathcal{T}_{\\text{Lin. An. (B)}\\to\\text{Arbre}}\\}\n",
    "=\\{0\\}\n",
    "$$"
   ]
  },
  {
   "cell_type": "markdown",
   "metadata": {},
   "source": [
    "$$\n",
    "\\left\\lbrace\n",
    "\\begin{array}{c}\n",
    "\\vec{F}_x+\\vec{F}_y\\\\\n",
    "\\vec{AO}\\wedge\\left(\\vec{F}_x+\\vec{F}_y\\right)\n",
    "\\end{array}\n",
    "\\right\\rbrace_{A}\n",
    "+\n",
    "\\left\\lbrace\n",
    "\\begin{array}{c}\n",
    "\\vec{\\mathcal{R}_{A}}\\\\\n",
    "\\vec{0}\n",
    "\\end{array}\n",
    "\\right\\rbrace_{A}\n",
    "+\n",
    "\\left\\lbrace\n",
    "\\begin{array}{c}\n",
    "\\vec{\\mathcal{R}_{B}}\\\\\n",
    "\\vec{AB}\\wedge\\vec{\\mathcal{R}_{B}}\n",
    "\\end{array}\n",
    "\\right\\rbrace_{A}\n",
    "=\n",
    "\\left\\lbrace\n",
    "\\begin{array}{c}\n",
    "\\vec{0}\\\\\n",
    "\\vec{0}\n",
    "\\end{array}\n",
    "\\right\\rbrace\n",
    "$$"
   ]
  },
  {
   "cell_type": "markdown",
   "metadata": {},
   "source": [
    "$$\n",
    "\\left\\lbrace\n",
    "\\begin{array}{crcl}\n",
    "F_x&-a& &F_x\\\\\n",
    "F_y&0&\\wedge&F_y\\\\\n",
    "0&0& &0\n",
    "\\end{array}\n",
    "\\right\\rbrace_{A}\n",
    "+\n",
    "\\left\\lbrace\n",
    "\\begin{array}{cc}\n",
    "X_{A}&0\\\\\n",
    "Y_{A}&0\\\\\n",
    "Z_{A}&0\n",
    "\\end{array}\n",
    "\\right\\rbrace_{A}\n",
    "+\n",
    "\\left\\lbrace\n",
    "\\begin{array}{crcl}\n",
    "0&b& &0\\\\\n",
    "Y_{B}&0&\\wedge&Y_{B}\\\\\n",
    "Z_{B}&0& &Z_{B}\n",
    "\\end{array}\n",
    "\\right\\rbrace_{A}\n",
    "=\n",
    "\\left\\lbrace\n",
    "\\begin{array}{rl}\n",
    "0&0\\\\\n",
    "0&0\\\\\n",
    "0&0\n",
    "\\end{array}\n",
    "\\right\\rbrace\n",
    "$$"
   ]
  },
  {
   "cell_type": "markdown",
   "metadata": {},
   "source": [
    "$$\n",
    "\\left\\lbrace\n",
    "\\begin{array}{rl}\n",
    "F_x + X_A &=0\\\\\n",
    "F_y + Y_A + Y_B &=0\\\\\n",
    "Z_{A} + Z_{B} &=0\\\\\n",
    "0 &=0\\\\\n",
    "-b.Z_B&=0\\\\\n",
    "a.F_y + b.Y_B&=0\n",
    "\\end{array}\n",
    "\\right.\n",
    "$$"
   ]
  },
  {
   "cell_type": "markdown",
   "metadata": {},
   "source": [
    "On est bien dans le cas d'un système isostatique (6 équations scalaires du PFD, 5 inconnues d'efforts et un degré de mobilité)."
   ]
  },
  {
   "cell_type": "markdown",
   "metadata": {},
   "source": [
    "$$\n",
    "\\{\\mathcal{T}_{\\text{Rot. (A)}\\to\\text{Arbre}}\\}:\n",
    "\\left\\lbrace\n",
    "\\begin{array}{cc}\n",
    "X_{A}=-F_x&0\\\\\n",
    "Y_{A}=-(1+\\lambda)F_y&0\\\\\n",
    "Z_{A}=0&0\n",
    "\\end{array}\n",
    "\\right\\rbrace_{A}\n",
    "\\quad\n",
    "\\{\\mathcal{T}_{\\text{Lin. An. (B)}\\to\\text{Arbre}}\\}:\n",
    "\\left\\lbrace\n",
    "\\begin{array}{cc}\n",
    "X_{B}=0&0\\\\\n",
    "Y_{B}=-\\lambda F_y&0\\\\\n",
    "Z_{B}=0&0\n",
    "\\end{array}\n",
    "\\right\\rbrace_{B}\n",
    "$$"
   ]
  },
  {
   "cell_type": "markdown",
   "metadata": {},
   "source": [
    "#### 2) Charges radiales équivalentes pour chacune des 3 phases de fonctionnement :"
   ]
  },
  {
   "cell_type": "markdown",
   "metadata": {},
   "source": [
    "<div class=\"alert alert-info\">\n",
    "<img src=\"verif_duree_vie_rotule_rouleau_oblique.svg\" width=\"600\">\n",
    "    </div>"
   ]
  },
  {
   "cell_type": "code",
   "execution_count": 1,
   "metadata": {},
   "outputs": [
    {
     "name": "stdout",
     "output_type": "stream",
     "text": [
      "Phase 0 | Peq A   800.00 N | Peq B   110.00 N\n",
      "Phase 1 | Peq A  1599.79 N | Peq B   112.75 N\n",
      "Phase 2 | Peq A  1998.24 N | Peq B   155.38 N\n"
     ]
    }
   ],
   "source": [
    "import numpy as np\n",
    "# Données roulements\n",
    "# 1208ETN9\n",
    "dA = 40\n",
    "DA = 80\n",
    "BA = 18\n",
    "CA = 19900\n",
    "C0A = 6950\n",
    "eA = 0.22\n",
    "XA = 0.65\n",
    "Y1A = 2.9\n",
    "Y2A = 4.5\n",
    "# 6208\n",
    "dB = 40\n",
    "DB = 80\n",
    "BB = 18\n",
    "CB = 32500\n",
    "C0B = 19000\n",
    "# Données chargement broche machine outil :\n",
    "Fx = [100,280,340]\n",
    "Fy = [400,410,565]\n",
    "Phase =[[800,0.20],[1200,0.50],[1800,0.30]]\n",
    "L = 0.275\n",
    "\n",
    "# Fonction de calcul de la charge radiale équivalente\n",
    "def Peq(Fa,Fr,e,X,Y1,Y2):\n",
    "    if ((Fa/Fr)<=e):\n",
    "        P = Fr + Y1*Fa\n",
    "    else:\n",
    "        P = X*Fr + Y2*Fa\n",
    "    return P\n",
    "\n",
    "LPA = []\n",
    "LPB = []\n",
    "# Pour toutes les phases de chargement ...\n",
    "for i,(fx,fy) in enumerate(zip(Fx,Fy)):\n",
    "    FrA = np.abs(-(1+L)*fy)\n",
    "    FaA = np.abs(-fx)\n",
    "    PA = Peq(FaA,FrA,eA,XA,Y1A,Y2A)\n",
    "    PB = np.abs(-L*fy)\n",
    "    print('Phase %i | Peq A %8.2f N | Peq B %8.2f N'%(i,PA,PB))\n",
    "    LPA.append(PA)\n",
    "    LPB.append(PB)\n",
    "    "
   ]
  },
  {
   "cell_type": "markdown",
   "metadata": {},
   "source": [
    "#### 3) Charges radiales équivalentes sur l'ensemble des 3 phases :"
   ]
  },
  {
   "cell_type": "markdown",
   "metadata": {},
   "source": [
    "<div class=\"alert alert-info\">\n",
    "    Loi de Miner (cumul de l'endommagement) appliquée au cas des roulements :\n",
    "$$\n",
    "P_\\text{eq}=\\left(\\frac{\\sum\\limits_{i}U_i.P_i^n}{\\sum\\limits_{i}U_i}\\right)^\\frac{1}{n}\n",
    "$$\n",
    "Avec :\n",
    "<ul>\n",
    "     <li>$P_\\text{eq}$ : charge équivalente sur l'ensemble des phases de chargement.</li>\n",
    "    <li>$U_i=\\omega_i.t_i$ : $t_i$ durée de phase $i$ à la vitesse de rotation $\\omega_i$ $\\to$ en nombre de tours pour un roulement.</li> \n",
    "    <li>$P_i$ : charge radiale équivalente supportée durant la phase $i$.</li>\n",
    "    <li>$n$ : type de roulement, $n=$3 pour les billes, $n=$10/3 pour les rouleaux.</li>     \n",
    "</ul>\n",
    "</div>"
   ]
  },
  {
   "cell_type": "code",
   "execution_count": 2,
   "metadata": {},
   "outputs": [
    {
     "name": "stdout",
     "output_type": "stream",
     "text": [
      "Charge radiale équiv.\n",
      "\tRlt. A  1739.89 N\n",
      "\tRlt. B   133.58 N\n"
     ]
    }
   ],
   "source": [
    "# Initialise les variables pour les sommes ..\n",
    "Utot = 0   # Somme des Ui\n",
    "UPtotA = 0 # Somme des Ui.Pi pour le rlt A.\n",
    "UPtotB = 0 # Somme des Ui.Pi pour le rlt B.\n",
    "# Calcul des sommes pour les 3 phases ..\n",
    "for phasei,PAi,PBi in zip(Phase,LPA,LPB):\n",
    "    Ui = phasei[0]*phasei[1]\n",
    "    Utot = Utot + Ui\n",
    "    UPtotA = UPtotA + Ui*(PAi**3)\n",
    "    UPtotB = UPtotB + Ui*(PBi**3)\n",
    "\n",
    "PeqA = (UPtotA/Utot)**(1/3)\n",
    "PeqB = (UPtotB/Utot)**(1/3)\n",
    "print('Charge radiale équiv.\\n\\tRlt. A %8.2f N\\n\\tRlt. B %8.2f N'%(PeqA,PeqB))"
   ]
  },
  {
   "cell_type": "markdown",
   "metadata": {},
   "source": [
    "#### 4) Durée de vie de chaque roulement pour une fiabilité de 90% par roulement :"
   ]
  },
  {
   "cell_type": "code",
   "execution_count": 13,
   "metadata": {},
   "outputs": [
    {
     "name": "stdout",
     "output_type": "stream",
     "text": [
      "Durée de vie à 90% en million de tours:\n",
      "\t*Rlt. A 1496\n",
      "\t*Rlt. B 14402691\n"
     ]
    }
   ],
   "source": [
    "L10A = (CA/PeqA)**3\n",
    "L10B = (CB/PeqB)**3\n",
    "print('Durée de vie à 90%% en million de tours:\\n\\t*Rlt. A %.0f\\n\\t*Rlt. B %.0f'%(L10A,L10B))"
   ]
  },
  {
   "cell_type": "markdown",
   "metadata": {},
   "source": [
    "Remarque :<br>\n",
    "Avec une fiabilité de 90% par roulement la liaison a une fiabilité $f_\\text{Liaison}=0.9^2=0.81$."
   ]
  },
  {
   "cell_type": "markdown",
   "metadata": {},
   "source": [
    "#### 5) Durée de vie pour une fiabilité de 95%  de la liaison"
   ]
  },
  {
   "cell_type": "markdown",
   "metadata": {},
   "source": [
    "On reprend la relation du TD sur la fiabilité d'une liaison à 3 roulements, on l'applique ici au cas des roulements A et B :\n",
    "\n",
    "$$\n",
    "L_\\text{Liaison} = \\left[ \\frac{\\ln\\left(f_\\text{Liaison}\\right)}{\\ln 0.9\\left({L_{10A}}^{-\\frac{3}{2}}+{L_{10B}}^{-\\frac{3}{2}}\\right)} \\right]^\\frac{2}{3}\n",
    "$$"
   ]
  },
  {
   "cell_type": "code",
   "execution_count": 19,
   "metadata": {},
   "outputs": [
    {
     "name": "stdout",
     "output_type": "stream",
     "text": [
      "Durée de vie :\n",
      "\t*En millions de tours : 926\n"
     ]
    }
   ],
   "source": [
    "sumL10 = L10A**(-3/2) + L10B**(-3/2)\n",
    "L = ( np.log(0.95)/(np.log(0.9)*sumL10) )**(2/3)\n",
    "print('Durée de vie :\\n\\t*En millions de tours : %.f'%L)"
   ]
  },
  {
   "cell_type": "markdown",
   "metadata": {},
   "source": [
    "Pour calculer la durée de vie en heures on utilise le nombre de tours en 1 minute sur l'ensemble des 3 phases soit : $\\sum\\limits_{i}U_i=\\sum\\limits_{i}\\omega_i.t_i$"
   ]
  },
  {
   "cell_type": "code",
   "execution_count": 21,
   "metadata": {},
   "outputs": [
    {
     "name": "stdout",
     "output_type": "stream",
     "text": [
      "Durée de vie :\n",
      "\t*En heures : 11870.94 h\n"
     ]
    }
   ],
   "source": [
    "# Utot est le nbre de tour en une minute pour les 3 phases -> somme des Ui\n",
    "Lh = L*1e6/(Utot*60)\n",
    "print('Durée de vie :\\n\\t*En heures : %.2f h'%Lh)"
   ]
  }
 ],
 "metadata": {
  "kernelspec": {
   "display_name": "Python 3",
   "language": "python",
   "name": "python3"
  },
  "language_info": {
   "codemirror_mode": {
    "name": "ipython",
    "version": 3
   },
   "file_extension": ".py",
   "mimetype": "text/x-python",
   "name": "python",
   "nbconvert_exporter": "python",
   "pygments_lexer": "ipython3",
   "version": "3.7.7"
  }
 },
 "nbformat": 4,
 "nbformat_minor": 4
}
